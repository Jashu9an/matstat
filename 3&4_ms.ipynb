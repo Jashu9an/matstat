{
 "cells": [
  {
   "cell_type": "code",
   "execution_count": 19,
   "id": "21645d23-41cc-4187-9a61-15e088c38a9c",
   "metadata": {},
   "outputs": [],
   "source": [
    "import numpy as np\n",
    "import matplotlib.pyplot as plt\n",
    "from scipy.stats import moment"
   ]
  },
  {
   "cell_type": "code",
   "execution_count": 20,
   "id": "4336c8fd-85c1-403d-b008-5d054b4324b0",
   "metadata": {},
   "outputs": [],
   "source": [
    "N, t = 100,60\n",
    "beta = 0.95\n",
    "a, q = 1 - beta, 1.96\n",
    "np.random.seed(44)\n",
    "x = np.random.randint(t, 2*t, N)\n",
    "intervals = [0.0, 0.0, 0.0]"
   ]
  },
  {
   "cell_type": "code",
   "execution_count": 21,
   "id": "351d256d-63d8-4231-884f-21a8e82a2780",
   "metadata": {},
   "outputs": [
    {
     "name": "stdout",
     "output_type": "stream",
     "text": [
      "59.5075320478351 <...< 60.59731720618941\n"
     ]
    }
   ],
   "source": [
    "#точный инт.\n",
    "a = 0.05\n",
    "f = np.max(x)/(1+(1 - a/2)**(1/N))\n",
    "s = np.max(x)/(1+(a/2)**(1/N))\n",
    "print(f , '<...<',s)\n",
    "intervals[0] = s-f"
   ]
  },
  {
   "cell_type": "code",
   "execution_count": 22,
   "id": "294d0260-2442-4afb-8340-03286ca073d8",
   "metadata": {},
   "outputs": [
    {
     "name": "stdout",
     "output_type": "stream",
     "text": [
      "59.27977341682335 <...< 63.293559916509984\n"
     ]
    }
   ],
   "source": [
    "#асимптотич. инт.\n",
    "a = 2/3*np.mean(x)\n",
    "f = a - q*2/3*np.sqrt(moment(x, 2) - np.mean(x))/10\n",
    "s = a - (-q)*2/3*np.sqrt(moment(x, 2) - np.mean(x))/10\n",
    "print(f , '<...<', s)\n",
    "intervals[1] = s-f"
   ]
  },
  {
   "cell_type": "code",
   "execution_count": 23,
   "id": "21ef226b-a71b-4fa7-8f7e-72efc14b97a3",
   "metadata": {},
   "outputs": [
    {
     "name": "stdout",
     "output_type": "stream",
     "text": [
      "59.666666666666664 <...< 63.63333333333333\n"
     ]
    }
   ],
   "source": [
    "#непарам. инт.\n",
    "m = np.array([])\n",
    "for i in range(1000):\n",
    "    m = np.append(m, 2/3*np.mean(np.random.choice(x, size = len(x))) - a)\n",
    "m = np.sort(m)\n",
    "\n",
    "f = a + m[74]\n",
    "s = a + m[974]\n",
    "print(f , '<...<', s)\n",
    "intervals[2] = s-f"
   ]
  },
  {
   "cell_type": "code",
   "execution_count": 24,
   "id": "52be2af5-d56f-4ac1-a35e-6a9643529c0a",
   "metadata": {},
   "outputs": [
    {
     "name": "stdout",
     "output_type": "stream",
     "text": [
      "точный=  1.0897851583543101 \n",
      " асимпт=  4.013786499686631 \n",
      " бутстр=  3.9666666666666686\n"
     ]
    }
   ],
   "source": [
    "print('точный= ', intervals[0], '\\n',\n",
    "      'асимпт= ', intervals[1], '\\n', \n",
    "      'бутстр= ', intervals[2])"
   ]
  },
  {
   "cell_type": "markdown",
   "id": "7795f02d-4c44-4e51-ace7-69b9cb793488",
   "metadata": {},
   "source": [
    "## 4"
   ]
  },
  {
   "cell_type": "code",
   "execution_count": 64,
   "id": "75f43fe0-5156-469b-bb2c-0b0b91be9350",
   "metadata": {},
   "outputs": [],
   "source": [
    "interv = [0.0, 0.0, 0.0, 0.0]\n",
    "def func(y, t):\n",
    "    return (1 - y)**(1/(1 - t))"
   ]
  },
  {
   "cell_type": "code",
   "execution_count": 65,
   "id": "ab152219-4342-48f5-9a93-e1434ff70bb5",
   "metadata": {},
   "outputs": [],
   "source": [
    "t = 4\n",
    "a = 0.05\n",
    "np.random.seed(44)\n",
    "x = [func(x, t) for x in np.random.sample(N)]      "
   ]
  },
  {
   "cell_type": "code",
   "execution_count": 66,
   "id": "614f1f93-602d-4687-b017-338f7fbe5007",
   "metadata": {},
   "outputs": [
    {
     "name": "stdout",
     "output_type": "stream",
     "text": [
      "3.9643958452273016\n"
     ]
    }
   ],
   "source": [
    "res = N/np.sum(np.log(x)) + 1\n",
    "print(res)"
   ]
  },
  {
   "cell_type": "code",
   "execution_count": 67,
   "id": "8d8fc5ca-afff-480c-8d28-864e38b991ed",
   "metadata": {},
   "outputs": [],
   "source": [
    "median = np.around(2**(1/(t-1)), 4)"
   ]
  },
  {
   "cell_type": "code",
   "execution_count": 68,
   "id": "91af022b-f4dd-4c41-b6e2-8e0cf937b155",
   "metadata": {},
   "outputs": [
    {
     "data": {
      "text/plain": [
       "1.2599"
      ]
     },
     "execution_count": 68,
     "metadata": {},
     "output_type": "execute_result"
    }
   ],
   "source": [
    "median"
   ]
  },
  {
   "cell_type": "code",
   "execution_count": 69,
   "id": "e692f28c-efb7-46c0-b5ed-d86c13a3247c",
   "metadata": {},
   "outputs": [],
   "source": [
    "f = 2**(1/(res-1)) - 1.96*np.log(2)*2**(1/(res-1))/((res - 1)*10)\n",
    "s = 2**(1/(res-1)) + 1.96*np.log(2)*2**(1/(res-1))/((res - 1)*10)"
   ]
  },
  {
   "cell_type": "code",
   "execution_count": 70,
   "id": "9391565f-bb57-4fde-8708-3e2552aa0dcc",
   "metadata": {},
   "outputs": [
    {
     "name": "stdout",
     "output_type": "stream",
     "text": [
      "1.2055 <...< 1.3213\n"
     ]
    }
   ],
   "source": [
    "print(np.around(f, 4),  '<...<', np.around(s, 4))\n",
    "interv[0] = s-f"
   ]
  },
  {
   "cell_type": "code",
   "execution_count": 71,
   "id": "8e07036c-9c94-4d80-b0c7-6d8c42812623",
   "metadata": {},
   "outputs": [],
   "source": [
    "bres = 1/(np.mean(np.log(x)) + 1) + 1"
   ]
  },
  {
   "cell_type": "code",
   "execution_count": 72,
   "id": "8ad7c309-555d-4eac-88f1-10c6fde7b85f",
   "metadata": {},
   "outputs": [
    {
     "data": {
      "text/plain": [
       "1.7477547553169064"
      ]
     },
     "execution_count": 72,
     "metadata": {},
     "output_type": "execute_result"
    }
   ],
   "source": [
    "bres"
   ]
  },
  {
   "cell_type": "code",
   "execution_count": 73,
   "id": "b68ad473-f8b1-4c18-ade8-538957503c82",
   "metadata": {},
   "outputs": [],
   "source": [
    "f = -1.96*(res-1)/10+res\n",
    "s = 1.96*(res-1)/10+res"
   ]
  },
  {
   "cell_type": "code",
   "execution_count": 74,
   "id": "4dd64c93-9d16-4ab0-84cc-b13d70081139",
   "metadata": {},
   "outputs": [
    {
     "name": "stdout",
     "output_type": "stream",
     "text": [
      "3.3834  <...<  4.5454\n"
     ]
    }
   ],
   "source": [
    "print( np.around(f, 4) , ' <...< ', np.around(s, 4)) # асимптотич.\n",
    "interv[1] = s-f"
   ]
  },
  {
   "cell_type": "code",
   "execution_count": 75,
   "id": "16540ccb-c76a-452c-a479-b8bb118dff5e",
   "metadata": {},
   "outputs": [],
   "source": [
    "def b_func(x, N):\n",
    "    return 1+ N/sum([np.log(xi) for xi in x])"
   ]
  },
  {
   "cell_type": "code",
   "execution_count": 76,
   "id": "43925058-47b7-44fb-8571-662e3d3c4d63",
   "metadata": {},
   "outputs": [],
   "source": [
    "m = np.sort(np.array([b_func([func(xi, t) \n",
    "                              for xi in np.random.sample(N)], N) for i in range(50000)]))"
   ]
  },
  {
   "cell_type": "code",
   "execution_count": 77,
   "id": "135c05c1-dbc6-4199-8037-2deca92f22f2",
   "metadata": {},
   "outputs": [
    {
     "name": "stdout",
     "output_type": "stream",
     "text": [
      "3.4894 <...<  4.6868\n"
     ]
    }
   ],
   "source": [
    "f = m[int(a/2*50000)]\n",
    "s = m[int((1-a/2)*50000)]\n",
    "print(np.around(f,4) , '<...< ', np.around(s,4))\n",
    "interv[2] = s-f"
   ]
  },
  {
   "cell_type": "code",
   "execution_count": 80,
   "id": "52bd2aaa-a965-4a70-8b2c-2d91617f84c6",
   "metadata": {},
   "outputs": [],
   "source": [
    "m = np.array([])\n",
    "for i in range(1000):\n",
    "    m = np.append(m, N/np.sum(np.log((np.random.choice(x, size = len(x))))) + 1 -  res)\n",
    "m = np.sort(m)"
   ]
  },
  {
   "cell_type": "code",
   "execution_count": 82,
   "id": "953ea896-3a92-4744-a3af-2d4081e8180c",
   "metadata": {},
   "outputs": [
    {
     "name": "stdout",
     "output_type": "stream",
     "text": [
      "3.5857 <...< 4.6169\n"
     ]
    }
   ],
   "source": [
    "f = res + m[74]\n",
    "s = res + m[974]\n",
    "print(np.around(f,4) , '<...<', np.around(s,4))\n",
    "interv[3] = s-f"
   ]
  },
  {
   "cell_type": "code",
   "execution_count": 86,
   "id": "6ef77e11-f570-4d71-9951-d46321f192be",
   "metadata": {},
   "outputs": [
    {
     "name": "stdout",
     "output_type": "stream",
     "text": [
      "асимпт: 1.1620431713291017\n",
      "бутст. парам.: 1.1973789307507676\n",
      "бутстр. непарам.: 1.031233274237401\n"
     ]
    }
   ],
   "source": [
    "print(f'асимпт: {interv[1]}\\nбутст. парам.: {interv[2]}\\nбутстр. непарам.: {interv[3]}')"
   ]
  },
  {
   "cell_type": "code",
   "execution_count": null,
   "id": "5800f575-054d-4ccb-8efa-9c84e9092a54",
   "metadata": {},
   "outputs": [],
   "source": []
  }
 ],
 "metadata": {
  "kernelspec": {
   "display_name": "Python 3 (ipykernel)",
   "language": "python",
   "name": "python3"
  },
  "language_info": {
   "codemirror_mode": {
    "name": "ipython",
    "version": 3
   },
   "file_extension": ".py",
   "mimetype": "text/x-python",
   "name": "python",
   "nbconvert_exporter": "python",
   "pygments_lexer": "ipython3",
   "version": "3.9.7"
  }
 },
 "nbformat": 4,
 "nbformat_minor": 5
}
