{
 "cells": [
  {
   "cell_type": "code",
   "execution_count": 1,
   "id": "d3c4271b-8bd8-4900-8365-c5bd360e3468",
   "metadata": {},
   "outputs": [],
   "source": [
    "import numpy as np\n",
    "import matplotlib.pyplot as plt\n",
    "import pandas as pd\n",
    "from scipy.stats import t, f, norm\n",
    "from sklearn.linear_model import LinearRegression"
   ]
  },
  {
   "cell_type": "code",
   "execution_count": 2,
   "id": "284e1845-cce0-458f-ab62-d2a9b4bed9df",
   "metadata": {},
   "outputs": [],
   "source": [
    "# данные о содержании иммуноглобулина\n",
    "\n",
    "data = [[83, 85],\n",
    "         [84,85,85,86,86,87],\n",
    "         [86,87,87,87,88,88,88,88,88,89,90],\n",
    "         [89,90,90,91],\n",
    "         [90,92]]"
   ]
  },
  {
   "cell_type": "code",
   "execution_count": 7,
   "id": "4a7092d0-955b-492f-bd8a-6fcdeb054956",
   "metadata": {},
   "outputs": [
    {
     "name": "stdout",
     "output_type": "stream",
     "text": [
      "p-value = 0.00017023290062878615 => отвергаем Н0 => есть влияние возраста\n"
     ]
    }
   ],
   "source": [
    "# влияние возраста на содержание иммуно... в крови\n",
    "psi = list()\n",
    "for i in range(len(data)):\n",
    "    for j in range(len(data[i])):\n",
    "        a = np.zeros(5)\n",
    "        a[i] += 1\n",
    "        psi.append(list(a))\n",
    "\n",
    "y = list()\n",
    "for i in range(len(data)):\n",
    "    y += data[i]\n",
    "psi = np.array(psi)\n",
    "y = np.array(y)\n",
    "\n",
    "F = psi.T @ psi\n",
    "F_i = np.linalg.inv(F)\n",
    "b = F_i @ psi.T @ y\n",
    "\n",
    "e = y - psi@b\n",
    "RSS = e.T @ e\n",
    "TSS = np.sum((y - np.mean(y))**2)\n",
    "R2 = (TSS- RSS)/TSS\n",
    "N, p = psi.shape\n",
    "delta = R2**2/(1-R2**2)*(N - p)/(p-1)\n",
    "p_value = 1 - f.cdf(delta, p-1, N-p)\n",
    "\n",
    "if (p_value < 0.05):\n",
    "    print(f'p-value = {p_value} => отвергаем Н0 => есть влияние возраста')\n",
    "else:\n",
    "    print(f'p-value = {p_value} => нет оснований отвергнуть Н0 => нет влияния возраста\\n')"
   ]
  },
  {
   "cell_type": "code",
   "execution_count": 14,
   "id": "5b6b1485-e841-4adb-95ac-c56dadf3fedf",
   "metadata": {},
   "outputs": [
    {
     "name": "stdout",
     "output_type": "stream",
     "text": [
      "1    эквивалентно 2, p_value = 0.1031\n",
      "1 не эквивалентно 3, p_value = 0.00017\n",
      "1 не эквивалентно 4, p_value = 0.0\n",
      "1 не эквивалентно 5, p_value = 0.0\n",
      "2 не эквивалентно 3, p_value = 0.0004\n",
      "2 не эквивалентно 4, p_value = 0.0\n",
      "2 не эквивалентно 5, p_value = 0.0\n",
      "3 не эквивалентно 4, p_value = 0.00239\n",
      "3 не эквивалентно 5, p_value = 0.001\n",
      "4    эквивалентно 5, p_value = 0.29579\n"
     ]
    }
   ],
   "source": [
    "for i in range(p):\n",
    "    for j in range(i+1, p):\n",
    "        d = (N-p)**0.5*(b[i] - b[j])/(RSS*(F_i[i,i]+F_i[j,j]))**0.5\n",
    "        p_value = 2*(1-t.cdf(abs(d), N-p))\n",
    "        if (p_value < 0.05):\n",
    "            print(f'{i+1} не эквивалентно {j+1}, p_value = {np.around(p_value, 5)}')\n",
    "        else:\n",
    "            print(f'{i+1}    эквивалентно {j+1}, p_value = {np.around(p_value, 5)}')"
   ]
  },
  {
   "cell_type": "code",
   "execution_count": null,
   "id": "90426822-677c-42db-8ef8-1aa421834b67",
   "metadata": {},
   "outputs": [],
   "source": []
  }
 ],
 "metadata": {
  "kernelspec": {
   "display_name": "Python 3 (ipykernel)",
   "language": "python",
   "name": "python3"
  },
  "language_info": {
   "codemirror_mode": {
    "name": "ipython",
    "version": 3
   },
   "file_extension": ".py",
   "mimetype": "text/x-python",
   "name": "python",
   "nbconvert_exporter": "python",
   "pygments_lexer": "ipython3",
   "version": "3.9.7"
  }
 },
 "nbformat": 4,
 "nbformat_minor": 5
}
