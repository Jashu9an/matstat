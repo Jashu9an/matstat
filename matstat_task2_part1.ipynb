{
 "cells": [
  {
   "cell_type": "code",
   "execution_count": 21,
   "id": "a9a86ee8-fb74-4fd7-9b48-1722e109eaf6",
   "metadata": {},
   "outputs": [],
   "source": [
    "import numpy as np\n",
    "import matplotlib.pyplot as plt\n",
    "import pandas as pd\n",
    "from sklearn.linear_model import LinearRegression\n",
    "from scipy.stats import t, f, norm\n",
    "from sklearn.neighbors import KNeighborsClassifier"
   ]
  },
  {
   "cell_type": "code",
   "execution_count": 22,
   "id": "e0d6ca67-be99-4a70-93c7-e055b9b954c8",
   "metadata": {},
   "outputs": [],
   "source": [
    "N = 50\n",
    "np.random.seed(42)\n",
    "X = [] # выборка\n",
    "for i in range(N):\n",
    "    y = np.random.uniform(-1, 1, 5)\n",
    "    y = np.append(y, np.random.normal(2+3*y[0]-2*y[1]+y[2]+y[3]-y[4], 1.5))\n",
    "    X.append(y)"
   ]
  },
  {
   "cell_type": "code",
   "execution_count": 48,
   "id": "39cc8129-7a25-498e-8835-6be5c22cf8fd",
   "metadata": {},
   "outputs": [
    {
     "data": {
      "text/html": [
       "<div>\n",
       "<style scoped>\n",
       "    .dataframe tbody tr th:only-of-type {\n",
       "        vertical-align: middle;\n",
       "    }\n",
       "\n",
       "    .dataframe tbody tr th {\n",
       "        vertical-align: top;\n",
       "    }\n",
       "\n",
       "    .dataframe thead th {\n",
       "        text-align: right;\n",
       "    }\n",
       "</style>\n",
       "<table border=\"1\" class=\"dataframe\">\n",
       "  <thead>\n",
       "    <tr style=\"text-align: right;\">\n",
       "      <th></th>\n",
       "      <th>x0</th>\n",
       "      <th>x1</th>\n",
       "      <th>x2</th>\n",
       "      <th>x3</th>\n",
       "      <th>x4</th>\n",
       "      <th>etta</th>\n",
       "    </tr>\n",
       "  </thead>\n",
       "  <tbody>\n",
       "    <tr>\n",
       "      <th>0</th>\n",
       "      <td>-0.250920</td>\n",
       "      <td>0.901429</td>\n",
       "      <td>0.463988</td>\n",
       "      <td>0.197317</td>\n",
       "      <td>-0.687963</td>\n",
       "      <td>1.212213</td>\n",
       "    </tr>\n",
       "    <tr>\n",
       "      <th>1</th>\n",
       "      <td>0.416145</td>\n",
       "      <td>-0.958831</td>\n",
       "      <td>0.939820</td>\n",
       "      <td>0.664885</td>\n",
       "      <td>-0.575322</td>\n",
       "      <td>8.861897</td>\n",
       "    </tr>\n",
       "    <tr>\n",
       "      <th>2</th>\n",
       "      <td>-0.636350</td>\n",
       "      <td>-0.633191</td>\n",
       "      <td>-0.391516</td>\n",
       "      <td>0.049513</td>\n",
       "      <td>-0.136110</td>\n",
       "      <td>2.376107</td>\n",
       "    </tr>\n",
       "    <tr>\n",
       "      <th>3</th>\n",
       "      <td>-0.721012</td>\n",
       "      <td>-0.415711</td>\n",
       "      <td>-0.267276</td>\n",
       "      <td>-0.087860</td>\n",
       "      <td>0.570352</td>\n",
       "      <td>-2.542918</td>\n",
       "    </tr>\n",
       "    <tr>\n",
       "      <th>4</th>\n",
       "      <td>-0.600652</td>\n",
       "      <td>0.028469</td>\n",
       "      <td>0.184829</td>\n",
       "      <td>-0.907099</td>\n",
       "      <td>0.215090</td>\n",
       "      <td>-1.696636</td>\n",
       "    </tr>\n",
       "  </tbody>\n",
       "</table>\n",
       "</div>"
      ],
      "text/plain": [
       "         x0        x1        x2        x3        x4      etta\n",
       "0 -0.250920  0.901429  0.463988  0.197317 -0.687963  1.212213\n",
       "1  0.416145 -0.958831  0.939820  0.664885 -0.575322  8.861897\n",
       "2 -0.636350 -0.633191 -0.391516  0.049513 -0.136110  2.376107\n",
       "3 -0.721012 -0.415711 -0.267276 -0.087860  0.570352 -2.542918\n",
       "4 -0.600652  0.028469  0.184829 -0.907099  0.215090 -1.696636"
      ]
     },
     "execution_count": 48,
     "metadata": {},
     "output_type": "execute_result"
    }
   ],
   "source": [
    "# проверка на мультиколлинеарность\n",
    "data = pd.DataFrame(X, columns = ['x0','x1','x2','x3','x4','etta'])\n",
    "data.head(5)"
   ]
  },
  {
   "cell_type": "code",
   "execution_count": 24,
   "id": "0dfcefb5-74f5-4013-82f0-42a7ec006ae3",
   "metadata": {},
   "outputs": [
    {
     "name": "stdout",
     "output_type": "stream",
     "text": [
      "x0 :  0.478\n",
      "x1 :  0.133\n",
      "x2 :  0.075\n",
      "x3 :  0.09\n",
      "x4 :  0.104\n"
     ]
    }
   ],
   "source": [
    "cols = ['x0','x1','x2','x3','x4']\n",
    "X_train = data.drop(['eta'], axis = 1)\n",
    "y_train = data[['eta']].values\n",
    "y_ = np.mean(y_train)\n",
    "for i in cols:\n",
    "    x = X_train[[i]].values\n",
    "    clf = LinearRegression()\n",
    "    clf.fit(x, y_train)\n",
    "    pr = clf.predict(x)\n",
    "    e = y_train - pr\n",
    "    RSS = e.T@e\n",
    "    TSS = np.sum((y_train - y_)**2)\n",
    "    R = 1 - RSS/TSS\n",
    "    print(i, ': ', np.around(R[0][0], 3))"
   ]
  },
  {
   "cell_type": "markdown",
   "id": "0b3336be-d5c6-49e8-8d9c-31a75bb87832",
   "metadata": {},
   "source": [
    "## не мультиколлинеарны"
   ]
  },
  {
   "cell_type": "code",
   "execution_count": 25,
   "id": "b2e02439-3194-483d-a629-2da14fa3df6a",
   "metadata": {},
   "outputs": [
    {
     "name": "stdout",
     "output_type": "stream",
     "text": [
      "дельта 0 : 9.072     b 0 : 1.94\n",
      "дельта 1 : 7.283     b 1 : 2.34\n",
      "дельта 2 : -5.316     b 2 : -1.966\n",
      "дельта 3 : 3.735     b 3 : 1.328\n",
      "дельта 4 : 3.582     b 4 : 1.361\n",
      "дельта 5 : -4.786     b 5 : -1.808\n",
      "p-value = 9.999999999998899e-05 => отвергаем Н0\n"
     ]
    }
   ],
   "source": [
    "# уравнение линейной регрессии и значимость коэффициентов\n",
    "data.insert(0, '1', 1)\n",
    "psi = data.drop(['eta'], axis = 1).values\n",
    "F = psi.T@psi\n",
    "f_i = np.linalg.inv(F)\n",
    "b = f_i@psi.T@y_train\n",
    "e = y_train - psi@b\n",
    "RSS = e.T@e\n",
    "deltas = []\n",
    "for i in range(6):\n",
    "    deltas.append(b[i][0]/(np.sqrt(RSS/44*f_i[i][i])))\n",
    "\n",
    "for i in range(6):\n",
    "    print('дельта', i, ':', np.around(deltas[i][0][0], 3), '    b', i, ':', np.around(b[i][0], 3))\n",
    "    \n",
    "p_valueb = [abs(2*(1 - t.cdf(abs(d),44))) for d in deltas]\n",
    "np.around(p_valueb, 3).T\n",
    "\n",
    "if (p_value < 0.05):\n",
    "    print(f'p-value = {p_value} => отвергаем Н0')\n",
    "else:\n",
    "    print(f'p-value = {p_value} => нет оснований отвергнуть Н0')"
   ]
  },
  {
   "cell_type": "code",
   "execution_count": 26,
   "id": "e513d0a0-ed42-47f4-a167-8254668fc7d7",
   "metadata": {},
   "outputs": [
    {
     "name": "stdout",
     "output_type": "stream",
     "text": [
      "p-value = 1.4921397450962104e-13 => отвергаем Н0 и коэфф детерминации значим\n"
     ]
    }
   ],
   "source": [
    "# коэффициент детерминации и его значимость\n",
    "TSS = np.sum((y_train - y_)**2)\n",
    "R2 = 1 - RSS/TSS\n",
    "delta = R2/(1-R2)*44/5\n",
    "delta = delta[0][0]\n",
    "p_value = abs((1 - f.cdf(delta, 5,44)))\n",
    "if (p_value < 0.05):\n",
    "    print(f'p-value = {p_value} => отвергаем Н0 и коэфф детерминации значим')\n",
    "else:\n",
    "    print(f'p-value = {p_value} => нет оснований отвергнуть Н0')"
   ]
  },
  {
   "cell_type": "code",
   "execution_count": 27,
   "id": "8322d3c2-9f12-47b9-8eee-60ad7d2e7dce",
   "metadata": {},
   "outputs": [
    {
     "name": "stdout",
     "output_type": "stream",
     "text": [
      "Доверительный интервал = [-0.052; 6.444]\n"
     ]
    }
   ],
   "source": [
    "# 95% доверительныый интервал\n",
    "x_0 = np.zeros_like(b.T)\n",
    "x_0[0] = 1\n",
    "\n",
    "y_pr = x_0@b\n",
    "eps = 10e-6\n",
    "ta = 0\n",
    "for i in list(np.linspace(2, 5, 50000)):\n",
    "    if (abs(t.cdf(i, 44) - 0.975)<eps):\n",
    "        ta = i\n",
    "        break\n",
    "\n",
    "s = np.sqrt(RSS*(1 + x_0@f_i@x_0.T)/44)\n",
    "l = np.around(float(y_pr - ta*s), 3)\n",
    "r = np.around(float(y_pr + ta*s), 3)\n",
    "print(f'Доверительный интервал = [{l}; {r}]')"
   ]
  },
  {
   "cell_type": "code",
   "execution_count": 28,
   "id": "e6523166-5b1f-47c8-aa8c-c71ac420bbd3",
   "metadata": {},
   "outputs": [
    {
     "name": "stdout",
     "output_type": "stream",
     "text": [
      "p-value = 0.35502017927847085 => нет оснований отвергнуть Н0\n",
      "\n"
     ]
    },
    {
     "name": "stderr",
     "output_type": "stream",
     "text": [
      "C:\\Users\\karsa\\AppData\\Local\\Temp/ipykernel_5696/3585904908.py:2: DeprecationWarning: Calling np.sum(generator) is deprecated, and in the future will give a different result. Use np.sum(np.fromiter(generator)) or the python sum builtin instead.\n",
      "  I = np.sum(np.sum(e[i]<e[:i]) for i in range(len(e)))\n"
     ]
    }
   ],
   "source": [
    "# независимость ошибок измерения\n",
    "I = np.sum(np.sum(e[i]<e[:i]) for i in range(len(e)))\n",
    "delta = (I - N*(N-1)/4)/np.sqrt((N**3)/36)\n",
    "p_value = 2*(1 - norm.cdf(delta))\n",
    "if (p_value < 0.05):\n",
    "    print(f'p-value = {p_value} => отвергаем Н0')\n",
    "else:\n",
    "    print(f'p-value = {p_value} => нет оснований отвергнуть Н0\\n')"
   ]
  },
  {
   "cell_type": "code",
   "execution_count": 29,
   "id": "93a6bae4-b658-4184-9f02-525226b585d2",
   "metadata": {},
   "outputs": [
    {
     "name": "stdout",
     "output_type": "stream",
     "text": [
      "p-value = 9.999999999998899e-05 => отвергаем Н0\n"
     ]
    },
    {
     "data": {
      "text/plain": [
       "[<matplotlib.lines.Line2D at 0x2859d586fa0>]"
      ]
     },
     "execution_count": 29,
     "metadata": {},
     "output_type": "execute_result"
    },
    {
     "data": {
      "image/png": "[encoded data removed]",
      "text/plain": [
       "<Figure size 432x288 with 1 Axes>"
      ]
     },
     "metadata": {
      "needs_background": "light"
     },
     "output_type": "display_data"
    }
   ],
   "source": [
    "# нормальность распределения ошибок\n",
    "n = 100\n",
    "e_ = np.ravel(e)\n",
    "m = np.mean(abs(e_))\n",
    "s = np.var(e_)\n",
    "x = np.linspace(np.min(e), np.max(e), n)\n",
    "y_e = [np.sum(e_<i)/n for i in np.sort(e_)]\n",
    "y_emp = [norm.cdf(i, m, s) for i in np.sort(e_)]\n",
    "\n",
    "delta_acc = n**0.5*max(list(map(lambda x,y: abs(x-y), y_e, y_emp)))\n",
    "\n",
    "# расчет p-value\n",
    "\n",
    "N1 = 10000\n",
    "\n",
    "d_k = []\n",
    "for i in range(N1):\n",
    "    norm_ = np.random.normal(m, s, N)\n",
    "    x = np.linspace(0, max(norm_), 100)\n",
    "    f1 = [np.sum(norm_<i)/N for i in x]\n",
    "    f2 = [np.sum(e<i)/N for i in x]\n",
    "    res = N**0.5*max(list(map(lambda x,y: abs(x-y), f1, f2)))\n",
    "    d_k.append(res)\n",
    "    \n",
    "d_v = np.sort(d_k)\n",
    "k = len(d_v[d_v<delta_acc])\n",
    "p_value = 1-((k-1)/N1)\n",
    "\n",
    "if (p_value < 0.05):\n",
    "    print(f'p-value = {p_value} => отвергаем Н0')\n",
    "else:\n",
    "    print(f'p-value = {p_value} => нет оснований отвергнуть Н0\\n')\n",
    "\n",
    "plt.plot(x, norm.cdf(x, m, s))\n",
    "plt.plot(np.sort(e_), y_e)"
   ]
  },
  {
   "cell_type": "code",
   "execution_count": 33,
   "id": "9388b8c3-5a36-4f70-94cd-a261f6db823d",
   "metadata": {},
   "outputs": [
    {
     "data": {
      "image/png": "[encoded data removed]",
      "text/plain": [
       "<Figure size 432x288 with 1 Axes>"
      ]
     },
     "metadata": {
      "needs_background": "light"
     },
     "output_type": "display_data"
    },
    {
     "name": "stdout",
     "output_type": "stream",
     "text": [
      "Выброс: 3.3209221663172017\n"
     ]
    }
   ],
   "source": [
    "# исследование регрессии на выбросы\n",
    "sigma = np.median(abs(e))/0.675\n",
    "\n",
    "#построение\n",
    "\n",
    "plt.plot([0,50], [2*sigma, 2*sigma], color = 'r')\n",
    "plt.plot([0,50], [-2*sigma, -2*sigma], color = 'r')\n",
    "plt.scatter(np.arange(N), e, color = 'violet')\n",
    "plt.title(\"Выбросы\")\n",
    "plt.show()\n",
    "\n",
    "ind = 0\n",
    "for i in range(N):\n",
    "    if(e[i] > 2*sigma):\n",
    "        print(f'Выброс: {e[i][0]}')\n",
    "        break"
   ]
  },
  {
   "cell_type": "code",
   "execution_count": 34,
   "id": "79fd93a6-ab0e-4855-9541-f6abec4d1ca3",
   "metadata": {},
   "outputs": [
    {
     "name": "stdout",
     "output_type": "stream",
     "text": [
      "R2 =  0.21541033693401868\n"
     ]
    }
   ],
   "source": [
    "# кросс-проверка регрессии\n",
    "X_train = data.drop(['1','eta'], axis = 1)\n",
    "y_train = data[['eta']]\n",
    "cv = []\n",
    "\n",
    "for i in range(N):\n",
    "    X_test = X_train.loc[i].values\n",
    "    y_test = y_train.loc[i].values\n",
    "    X_train1 = X_train.drop(i, axis = 0).values\n",
    "    y_train1 = y_train.drop(i, axis = 0).values\n",
    "    F = X_train1.T@X_train1\n",
    "    F_i = np.linalg.inv(F)\n",
    "    b1 = F_i@X_train1.T@y_train1\n",
    "    pr1 = X_test@b1\n",
    "    e = y_test - pr1\n",
    "    cv.append(e**2)\n",
    "    \n",
    "cv = np.array(cv)\n",
    "cvss = np.sum(cv)\n",
    "R2_cv = 1 - cvss/TSS\n",
    "print('R2 = ', R2_cv)"
   ]
  },
  {
   "cell_type": "code",
   "execution_count": 36,
   "id": "f91585b5-0312-48b9-953c-15c5de7c9dd6",
   "metadata": {},
   "outputs": [
    {
     "name": "stdout",
     "output_type": "stream",
     "text": [
      "p-value = 0.8263092059934734 => нет оснований отвергнуть Н0 => модель адекватна\n",
      "\n"
     ]
    }
   ],
   "source": [
    "# првоерка адекватности регрессии с помощью 5 повторных измерений в одной точке\n",
    "psi5 = np.random.uniform(-1, 1, 5)\n",
    "eta5 = np.random.normal(2+3*psi5[0]-2*psi5[1]+psi5[2]+psi5[3]-psi5[4], 1.5, 5)\n",
    "sigma5 = 0.25*np.sum((eta5 - np.mean(eta5))**2)\n",
    "delta5 = RSS/(44*sigma5)\n",
    "p_value5 = 1 - f.cdf(delta5,  44, 4)\n",
    "\n",
    "if (p_value5[0][0] < 0.05):\n",
    "    print(f'p-value = {p_value5[0][0]} => отвергаем Н0')\n",
    "else:\n",
    "    print(f'p-value = {p_value5[0][0]} => нет оснований отвергнуть Н0 => модель адекватна\\n')"
   ]
  },
  {
   "cell_type": "code",
   "execution_count": 44,
   "id": "00755535-78f5-418e-bc9d-ed2398121787",
   "metadata": {},
   "outputs": [
    {
     "name": "stdout",
     "output_type": "stream",
     "text": [
      "дельта 0 : 8.968     b 0 : 1.94\n",
      "дельта 1 : 7.2     b 1 : 2.34\n",
      "дельта 2 : -5.256     b 2 : -1.966\n",
      "дельта 3 : 3.692     b 3 : 1.328\n",
      "дельта 4 : 3.541     b 4 : 1.361\n",
      "p-value = [[2.11328732e-11]] => отвергаем Н0 для коэффициента 1\n",
      "p-value = [[6.61309918e-09]] => отвергаем Н0 для коэффициента 2\n",
      "p-value = [[4.36549491e-06]] => отвергаем Н0 для коэффициента 3\n",
      "p-value = [[0.00062292]] => отвергаем Н0 для коэффициента 4\n",
      "p-value = [[0.00097204]] => отвергаем Н0 для коэффициента 5\n"
     ]
    }
   ],
   "source": [
    "# повторение пунктов b и c + сравнение уравнений регрессии\n",
    "indr = np.argmax(p_valb)\n",
    "\n",
    "dt = data.drop(['x'+str(indr)], axis = 1)\n",
    "psi1 = data.drop(['eta'], axis = 1).values\n",
    "y_train1 = dt[['eta']].values\n",
    "F1 = psi1.T@psi1\n",
    "F_i = np.linalg.inv(F1)\n",
    "b1 = F_i@psi1.T@y_train1\n",
    "e1 = y_train1 - psi1@b1\n",
    "RSS1 = e1.T@e1\n",
    "delta1 = []\n",
    "for i in range(5):\n",
    "    delta1.append(b1[i][0]/(np.sqrt(RSS1/43*F_i[i][i])))\n",
    "\n",
    "for i in range(5):\n",
    "    print('дельта', i, ':', np.around(delta1[i][0][0], 3),\n",
    "          '    b', i, ':', np.around(b1[i][0], 3))\n",
    "    \n",
    "p_value1 = [abs(2*(1 - t.cdf(abs(d),43))) for d in delta1]\n",
    "for i in range(0, 5):\n",
    "    if (p_value1[i] < 0.05):\n",
    "        print(f'p-value = {p_value1[i]} => отвергаем Н0 для коэффициента {i+1}')\n",
    "    else:\n",
    "        print(f'p-value = {p_value1[i]} => нет оснований отвергнуть Н0 для коэффицента {i+1} => коэффициент регрессии {i+1} значим\\n')"
   ]
  },
  {
   "cell_type": "code",
   "execution_count": 46,
   "id": "4cbafc84-ea93-4655-a946-14756078f5b2",
   "metadata": {},
   "outputs": [
    {
     "name": "stdout",
     "output_type": "stream",
     "text": [
      "R2: 0.7830599204052122\n",
      "p-value = 9.603429163007604e-14 => отвергаем Н0 => коэфф регрессии значим\n"
     ]
    }
   ],
   "source": [
    "y_1 = np.mean(y_train1)\n",
    "TSS1 = np.sum((y_train1 - y_1)**2)\n",
    "R2_ = 1 - RSS1/TSS1\n",
    "print('R2:', R2_[0][0])\n",
    "delta1 = R2_/(1-R2_)*43/4\n",
    "delta1 = delta1[0][0]\n",
    "\n",
    "p_value = abs((1 - f.cdf(delta1, 4,43)))\n",
    "if (p_value < 0.05):\n",
    "    print(f'p-value = {p_value} => отвергаем Н0 => коэфф регрессии значим')\n",
    "else:\n",
    "    print(f'p-value = {p_value} => нет оснований отвергнуть Н0')"
   ]
  },
  {
   "cell_type": "code",
   "execution_count": 47,
   "id": "bf6bdb27-5571-4ced-bc67-02e133ee9acc",
   "metadata": {},
   "outputs": [
    {
     "name": "stderr",
     "output_type": "stream",
     "text": [
      "C:\\Users\\karsa\\AppData\\Local\\Temp/ipykernel_5696/3869053566.py:2: RuntimeWarning: invalid value encountered in true_divide\n",
      "  deltab = (RSS - RSS1)/RSS1*(N - len(b))/(len(b) - len(b1))\n"
     ]
    },
    {
     "name": "stdout",
     "output_type": "stream",
     "text": [
      "p-value = 0.5005 => нет оснований отвергнуть Н0\n",
      "\n"
     ]
    }
   ],
   "source": [
    "# сравнение уравнений регрессии бустрапом\n",
    "deltab = (RSS - RSS1)/RSS1*(N - len(b))/(len(b) - len(b1))\n",
    "\n",
    "n = 10000\n",
    "d_b = []\n",
    "for i in range(n):\n",
    "    dt = data.loc[np.random.randint(0,len(data),len(data))]\n",
    "    dt1 = dt.drop(['x'+str(indr)], axis = 1)\n",
    "    x = dt.drop('eta', axis = 1)\n",
    "    x1 = dt1.drop('eta', axis = 1)\n",
    "    y = dt['eta']\n",
    "    y1 = dt1['eta']\n",
    "    \n",
    "    F0 = x.T @ x\n",
    "    F1 = x1.T @ x1\n",
    "    F0_i = np.linalg.inv(F0) \n",
    "    F1_i = np.linalg.inv(F1) \n",
    "    b_0 = F0_i @ x.T @ y\n",
    "    b_1 = F1_i @ x1.T @ y1 \n",
    "    y_pr = x @ np.ravel(b_0)\n",
    "    y_pr1 = x1 @ np.ravel(b_1)  \n",
    "    e_ = y - y_pr\n",
    "    e_1 = y1 - y_pr1  \n",
    "    RSS_ = e_.T @ e_\n",
    "    RSS_1 = e_1.T @ e_1\n",
    "    d = (RSS_ - RSS_1)/RSS_1*(N - len(b_0))/(len(b_0) - len(b_1))\n",
    "    d_b.append(d)\n",
    "    \n",
    "deltas = np.sort(d_b)\n",
    "k = len(deltas[deltas<d_b])\n",
    "p_value = 1-((k-1)/n)\n",
    "if (p_value < 0.05):\n",
    "    print(f'p-value = {p_value} => отвергаем Н0')\n",
    "else:\n",
    "    print(f'p-value = {p_value} => нет оснований отвергнуть Н0\\n')"
   ]
  }
 ],
 "metadata": {
  "kernelspec": {
   "display_name": "Python 3 (ipykernel)",
   "language": "python",
   "name": "python3"
  },
  "language_info": {
   "codemirror_mode": {
    "name": "ipython",
    "version": 3
   },
   "file_extension": ".py",
   "mimetype": "text/x-python",
   "name": "python",
   "nbconvert_exporter": "python",
   "pygments_lexer": "ipython3",
   "version": "3.9.7"
  }
 },
 "nbformat": 4,
 "nbformat_minor": 5
}
